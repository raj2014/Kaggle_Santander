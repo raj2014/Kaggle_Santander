{
 "cells": [
  {
   "cell_type": "code",
   "execution_count": 1,
   "metadata": {
    "collapsed": true
   },
   "outputs": [],
   "source": [
    "from sklearn.cross_validation import StratifiedKFold\n",
    "from sklearn.ensemble import RandomForestClassifier, ExtraTreesClassifier, GradientBoostingClassifier,ExtraTreesRegressor\n",
    "from sklearn.linear_model import LogisticRegression\n",
    "import pandas as pd\n",
    "import numpy as np"
   ]
  },
  {
   "cell_type": "code",
   "execution_count": 3,
   "metadata": {
    "collapsed": false
   },
   "outputs": [],
   "source": [
    "# Reading input train and test data\n",
    "train = pd.read_csv(\"train.csv\")\n",
    "test=pd.read_csv(\"test.csv\")\n",
    "\n",
    "\n",
    "# removing the constant columns\n",
    "remove = []\n",
    "for col in train.columns:\n",
    "    if train[col].std() == 0:\n",
    "        remove.append(col)\n",
    "        \n",
    "train.drop(remove, axis=1, inplace=True)\n",
    "test.drop(remove, axis=1, inplace=True)\n",
    "\n",
    "# remove duplicated columns\n",
    "remove = []\n",
    "c = train.columns\n",
    "for i in range(len(c)-1):\n",
    "    v = train[c[i]].values\n",
    "    for j in range(i+1,len(c)):\n",
    "        if np.array_equal(v,train[c[j]].values):\n",
    "            remove.append(c[j])\n",
    "\n",
    "train.drop(remove, axis=1, inplace=True)\n",
    "test.drop(remove, axis=1, inplace=True)\n",
    "\n",
    "\n",
    "target = train['TARGET'].values\n",
    "train = train.drop(['ID','TARGET'], axis=1)\n",
    "\n",
    "id_test = test['ID'].values\n",
    "test = test.drop(['ID'], axis=1)\n",
    "\n",
    "# length of dataset\n",
    "len_train = len(train)\n",
    "len_test  = len(test)\n",
    "\n"
   ]
  },
  {
   "cell_type": "code",
   "execution_count": 11,
   "metadata": {
    "collapsed": false
   },
   "outputs": [],
   "source": [
    "# feature engineering\n",
    "len(train.columns)\n",
    "\n",
    "# Functions,code for feature engineering\n",
    "\n",
    "def getCounts(x):\n",
    "    count=0\n",
    "    for i in x:\n",
    "        if i==0:\n",
    "            count=count+1\n",
    "    return count\n",
    "#sum of zeros across the instances\n",
    "train['zeroCounts']=train.apply(getCounts,axis=1)\n",
    "test['zeroCounts']=test.apply(getCounts,axis=1)\n"
   ]
  },
  {
   "cell_type": "code",
   "execution_count": 14,
   "metadata": {
    "collapsed": false
   },
   "outputs": [
    {
     "name": "stdout",
     "output_type": "stream",
     "text": [
      "      Iter       Train Loss      OOB Improve   Remaining Time \n",
      "         1           0.3317           0.0016            2.93m\n",
      "         2           0.3290           0.0015            2.96m\n",
      "         3           0.3256           0.0015            2.95m\n",
      "         4           0.3263           0.0014            2.99m\n",
      "         5           0.3255           0.0013            3.01m\n",
      "         6           0.3265           0.0012            2.94m\n",
      "         7           0.3262           0.0012            2.92m\n",
      "         8           0.3238           0.0011            2.92m\n",
      "         9           0.3224           0.0010            2.89m\n",
      "        10           0.3199           0.0010            2.87m\n",
      "        20           0.3068           0.0008            2.64m\n",
      "        30           0.3026           0.0006            2.45m\n",
      "        40           0.2953           0.0004            2.26m\n",
      "        50           0.2908           0.0004            2.06m\n",
      "        60           0.2790           0.0003            1.87m\n",
      "        70           0.2789           0.0003            1.67m\n",
      "        80           0.2785           0.0002            1.50m\n",
      "        90           0.2744           0.0002            1.32m\n",
      "       100           0.2756           0.0002            1.13m\n",
      "      Iter       Train Loss      OOB Improve   Remaining Time \n",
      "         1           0.3334           0.0015            2.95m\n",
      "         2           0.3300           0.0015            2.92m\n",
      "         3           0.3285           0.0014            2.92m\n",
      "         4           0.3255           0.0014            2.87m\n",
      "         5           0.3274           0.0013            2.86m\n",
      "         6           0.3258           0.0012            2.82m\n",
      "         7           0.3248           0.0012            2.81m\n",
      "         8           0.3239           0.0011            2.79m\n",
      "         9           0.3196           0.0011            2.78m\n",
      "        10           0.3213           0.0011            2.75m\n",
      "        20           0.3070           0.0008            2.65m\n",
      "        30           0.3032           0.0006            2.53m\n",
      "        40           0.2964           0.0005            2.35m\n",
      "        50           0.2902           0.0003            2.11m\n",
      "        60           0.2807           0.0003            1.89m\n",
      "        70           0.2800           0.0002            1.69m\n",
      "        80           0.2775           0.0002            1.50m\n",
      "        90           0.2758           0.0002            1.31m\n",
      "       100           0.2746           0.0002            1.11m\n",
      "      Iter       Train Loss      OOB Improve   Remaining Time \n",
      "         1           0.3305           0.0015            2.82m\n",
      "         2           0.3346           0.0014            2.87m\n",
      "         3           0.3313           0.0012            2.85m\n",
      "         4           0.3293           0.0013            2.84m\n",
      "         5           0.3236           0.0014            2.82m\n",
      "         6           0.3220           0.0013            2.80m\n",
      "         7           0.3224           0.0012            2.78m\n",
      "         8           0.3227           0.0012            2.75m\n",
      "         9           0.3175           0.0012            2.73m\n",
      "        10           0.3165           0.0012            2.71m\n",
      "        20           0.3074           0.0008            2.54m\n",
      "        30           0.3009           0.0006            2.35m\n",
      "        40           0.2929           0.0005            2.16m\n",
      "        50           0.2859           0.0004            1.98m\n",
      "        60           0.2860           0.0003            1.79m\n",
      "        70           0.2804           0.0002            1.62m\n",
      "        80           0.2802           0.0002            1.46m\n",
      "        90           0.2766           0.0002            1.27m\n",
      "       100           0.2766           0.0001            1.08m\n",
      "      Iter       Train Loss      OOB Improve   Remaining Time \n",
      "         1           0.3350           0.0014            2.90m\n",
      "         2           0.3294           0.0015            2.81m\n",
      "         3           0.3286           0.0014            2.76m\n",
      "         4           0.3307           0.0013            2.75m\n",
      "         5           0.3257           0.0012            2.75m\n",
      "         6           0.3242           0.0011            2.74m\n",
      "         7           0.3239           0.0011            2.75m\n",
      "         8           0.3219           0.0011            2.73m\n",
      "         9           0.3173           0.0011            2.73m\n",
      "        10           0.3189           0.0007            2.72m\n",
      "        20           0.3086           0.0008            2.51m\n",
      "        30           0.3022           0.0006            2.33m\n",
      "        40           0.2976           0.0004            2.15m\n",
      "        50           0.2894           0.0004            1.95m\n",
      "        60           0.2887           0.0002            1.78m\n",
      "        70           0.2821           0.0003            1.59m\n",
      "        80           0.2823           0.0002            1.42m\n",
      "        90           0.2816           0.0002            1.24m\n",
      "       100           0.2767           0.0002            1.07m\n",
      "      Iter       Train Loss      OOB Improve   Remaining Time \n",
      "         1           0.3334           0.0016            2.83m\n",
      "         2           0.3281           0.0015            2.90m\n",
      "         3           0.3258           0.0015            2.83m\n",
      "         4           0.3275           0.0013            2.96m\n",
      "         5           0.3205           0.0013            2.92m\n",
      "         6           0.3248           0.0013            2.84m\n",
      "         7           0.3216           0.0012            2.82m\n",
      "         8           0.3228           0.0012            2.75m\n",
      "         9           0.3168           0.0013            2.69m\n",
      "        10           0.3151           0.0012            2.68m\n",
      "        20           0.3077           0.0008            2.48m\n",
      "        30           0.3006           0.0006            2.31m\n",
      "        40           0.2967           0.0005            2.14m\n",
      "        50           0.2879           0.0004            1.96m\n",
      "        60           0.2860           0.0003            1.78m\n",
      "        70           0.2805           0.0003            1.61m\n",
      "        80           0.2812           0.0001            1.43m\n",
      "        90           0.2790           0.0002            1.25m\n",
      "       100           0.2753           0.0002            1.07m\n",
      "[ 0.82906825  0.82543261  0.83671535  0.8506263   0.83179207]\n",
      "Accuracy: 0.834727 (+/- 0.017522)\n"
     ]
    }
   ],
   "source": [
    "# Training a GBT classifier\n",
    "from sklearn import metrics\n",
    "from sklearn import cross_validation\n",
    "gbt= GradientBoostingClassifier(learning_rate=0.01, subsample=0.8, max_depth=5,max_features=250,n_estimators=160,\n",
    "                                random_state=1,verbose=1)\n",
    "scores=cross_validation.cross_val_score(gbt,train,target,cv=5,scoring='roc_auc')\n",
    "print scores\n",
    "print(\"Accuracy: %f (+/- %f)\" % (scores.mean(), scores.std() * 2))"
   ]
  },
  {
   "cell_type": "code",
   "execution_count": 4,
   "metadata": {
    "collapsed": true
   },
   "outputs": [],
   "source": [
    "# Selecting startified sampling\n",
    "nfolds=5\n",
    "skf = list(StratifiedKFold(target,nfolds))"
   ]
  },
  {
   "cell_type": "code",
   "execution_count": 6,
   "metadata": {
    "collapsed": false
   },
   "outputs": [],
   "source": [
    "# Creating the base classifiers for blending\n",
    "clfs = [RandomForestClassifier(n_estimators=10, n_jobs=-1, criterion='entropy',verbose=1),\n",
    "        ExtraTreesClassifier(n_estimators=10, n_jobs=-1, criterion='entropy',verbose=1),\n",
    "        GradientBoostingClassifier(learning_rate=0.05, subsample=0.5, max_depth=6, n_estimators=10,verbose=1)]\n",
    "\n"
   ]
  },
  {
   "cell_type": "code",
   "execution_count": 7,
   "metadata": {
    "collapsed": false
   },
   "outputs": [
    {
     "name": "stdout",
     "output_type": "stream",
     "text": [
      "Creating train and test sets for blending.\n"
     ]
    }
   ],
   "source": [
    "print \"Creating train and test sets for blending.\"\n",
    "\n",
    "dataset_blend_train = np.zeros((train.shape[0], len(clfs)))\n",
    "dataset_blend_test = np.zeros((test.shape[0], len(clfs)))"
   ]
  },
  {
   "cell_type": "code",
   "execution_count": 19,
   "metadata": {
    "collapsed": false
   },
   "outputs": [
    {
     "data": {
      "text/html": [
       "<div>\n",
       "<table border=\"1\" class=\"dataframe\">\n",
       "  <thead>\n",
       "    <tr style=\"text-align: right;\">\n",
       "      <th></th>\n",
       "      <th>var3</th>\n",
       "      <th>var15</th>\n",
       "      <th>imp_ent_var16_ult1</th>\n",
       "      <th>imp_op_var39_comer_ult1</th>\n",
       "      <th>imp_op_var39_comer_ult3</th>\n",
       "      <th>imp_op_var40_comer_ult1</th>\n",
       "      <th>imp_op_var40_comer_ult3</th>\n",
       "      <th>imp_op_var40_efect_ult1</th>\n",
       "      <th>imp_op_var40_efect_ult3</th>\n",
       "      <th>imp_op_var40_ult1</th>\n",
       "      <th>...</th>\n",
       "      <th>saldo_medio_var44_hace2</th>\n",
       "      <th>saldo_medio_var44_hace3</th>\n",
       "      <th>saldo_medio_var44_ult1</th>\n",
       "      <th>saldo_medio_var44_ult3</th>\n",
       "      <th>var38</th>\n",
       "      <th>zeroCounts</th>\n",
       "      <th>binaryCounts_ind</th>\n",
       "      <th>binaryCounts_numvar</th>\n",
       "      <th>binaryCounts_deltaimp</th>\n",
       "      <th>binaryCounts_indothers</th>\n",
       "    </tr>\n",
       "  </thead>\n",
       "  <tbody>\n",
       "    <tr>\n",
       "      <th>1</th>\n",
       "      <td>2</td>\n",
       "      <td>34</td>\n",
       "      <td>0</td>\n",
       "      <td>0</td>\n",
       "      <td>0</td>\n",
       "      <td>0</td>\n",
       "      <td>0</td>\n",
       "      <td>0</td>\n",
       "      <td>0</td>\n",
       "      <td>0</td>\n",
       "      <td>...</td>\n",
       "      <td>0</td>\n",
       "      <td>0</td>\n",
       "      <td>0</td>\n",
       "      <td>0</td>\n",
       "      <td>49278.03</td>\n",
       "      <td>190</td>\n",
       "      <td>5</td>\n",
       "      <td>0</td>\n",
       "      <td>0</td>\n",
       "      <td>0</td>\n",
       "    </tr>\n",
       "    <tr>\n",
       "      <th>2</th>\n",
       "      <td>2</td>\n",
       "      <td>23</td>\n",
       "      <td>0</td>\n",
       "      <td>0</td>\n",
       "      <td>0</td>\n",
       "      <td>0</td>\n",
       "      <td>0</td>\n",
       "      <td>0</td>\n",
       "      <td>0</td>\n",
       "      <td>0</td>\n",
       "      <td>...</td>\n",
       "      <td>0</td>\n",
       "      <td>0</td>\n",
       "      <td>0</td>\n",
       "      <td>0</td>\n",
       "      <td>67333.77</td>\n",
       "      <td>194</td>\n",
       "      <td>4</td>\n",
       "      <td>0</td>\n",
       "      <td>0</td>\n",
       "      <td>0</td>\n",
       "    </tr>\n",
       "  </tbody>\n",
       "</table>\n",
       "<p>2 rows × 225 columns</p>\n",
       "</div>"
      ],
      "text/plain": [
       "   var3  var15  imp_ent_var16_ult1  imp_op_var39_comer_ult1  \\\n",
       "1     2     34                   0                        0   \n",
       "2     2     23                   0                        0   \n",
       "\n",
       "   imp_op_var39_comer_ult3  imp_op_var40_comer_ult1  imp_op_var40_comer_ult3  \\\n",
       "1                        0                        0                        0   \n",
       "2                        0                        0                        0   \n",
       "\n",
       "   imp_op_var40_efect_ult1  imp_op_var40_efect_ult3  imp_op_var40_ult1  \\\n",
       "1                        0                        0                  0   \n",
       "2                        0                        0                  0   \n",
       "\n",
       "            ...            saldo_medio_var44_hace2  saldo_medio_var44_hace3  \\\n",
       "1           ...                                  0                        0   \n",
       "2           ...                                  0                        0   \n",
       "\n",
       "   saldo_medio_var44_ult1  saldo_medio_var44_ult3     var38  zeroCounts  \\\n",
       "1                       0                       0  49278.03         190   \n",
       "2                       0                       0  67333.77         194   \n",
       "\n",
       "   binaryCounts_ind  binaryCounts_numvar  binaryCounts_deltaimp  \\\n",
       "1                 5                    0                      0   \n",
       "2                 4                    0                      0   \n",
       "\n",
       "   binaryCounts_indothers  \n",
       "1                       0  \n",
       "2                       0  \n",
       "\n",
       "[2 rows x 225 columns]"
      ]
     },
     "execution_count": 19,
     "metadata": {},
     "output_type": "execute_result"
    }
   ],
   "source": [
    "# Check for indexing\n",
    "#train.iloc[[1,2],]\n",
    "#target[[1,2]]"
   ]
  },
  {
   "cell_type": "code",
   "execution_count": 20,
   "metadata": {
    "collapsed": false
   },
   "outputs": [
    {
     "name": "stderr",
     "output_type": "stream",
     "text": [
      "[Parallel(n_jobs=-1)]: Done  10 out of  10 | elapsed:    0.8s finished\n",
      "[Parallel(n_jobs=4)]: Done  10 out of  10 | elapsed:    0.0s finished\n"
     ]
    },
    {
     "name": "stdout",
     "output_type": "stream",
     "text": [
      "0 RandomForestClassifier(bootstrap=True, class_weight=None, criterion='entropy',\n",
      "            max_depth=None, max_features='auto', max_leaf_nodes=None,\n",
      "            min_samples_leaf=1, min_samples_split=2,\n",
      "            min_weight_fraction_leaf=0.0, n_estimators=10, n_jobs=-1,\n",
      "            oob_score=False, random_state=None, verbose=1,\n",
      "            warm_start=False)\n",
      "Fold 0\n",
      "Fold"
     ]
    },
    {
     "name": "stderr",
     "output_type": "stream",
     "text": [
      "[Parallel(n_jobs=4)]: Done  10 out of  10 | elapsed:    0.0s finished\n",
      "[Parallel(n_jobs=-1)]: Done  10 out of  10 | elapsed:    0.8s finished\n",
      "[Parallel(n_jobs=4)]: Done  10 out of  10 | elapsed:    0.0s finished\n",
      "[Parallel(n_jobs=4)]: Done  10 out of  10 | elapsed:    0.0s finished\n"
     ]
    },
    {
     "name": "stdout",
     "output_type": "stream",
     "text": [
      " 1\n",
      "Fold"
     ]
    },
    {
     "name": "stderr",
     "output_type": "stream",
     "text": [
      "[Parallel(n_jobs=-1)]: Done  10 out of  10 | elapsed:    0.8s finished\n",
      "[Parallel(n_jobs=4)]: Done  10 out of  10 | elapsed:    0.0s finished\n"
     ]
    },
    {
     "name": "stdout",
     "output_type": "stream",
     "text": [
      " 2\n",
      "Fold"
     ]
    },
    {
     "name": "stderr",
     "output_type": "stream",
     "text": [
      "[Parallel(n_jobs=4)]: Done  10 out of  10 | elapsed:    0.0s finished\n",
      "[Parallel(n_jobs=-1)]: Done  10 out of  10 | elapsed:    1.1s finished\n",
      "[Parallel(n_jobs=4)]: Done  10 out of  10 | elapsed:    0.0s finished\n",
      "[Parallel(n_jobs=4)]: Done  10 out of  10 | elapsed:    0.0s finished\n"
     ]
    },
    {
     "name": "stdout",
     "output_type": "stream",
     "text": [
      " 3\n",
      "Fold"
     ]
    },
    {
     "name": "stderr",
     "output_type": "stream",
     "text": [
      "[Parallel(n_jobs=-1)]: Done  10 out of  10 | elapsed:    0.9s finished\n",
      "[Parallel(n_jobs=4)]: Done  10 out of  10 | elapsed:    0.0s finished\n"
     ]
    },
    {
     "name": "stdout",
     "output_type": "stream",
     "text": [
      " 4\n",
      "1"
     ]
    },
    {
     "name": "stderr",
     "output_type": "stream",
     "text": [
      "[Parallel(n_jobs=4)]: Done  10 out of  10 | elapsed:    0.0s finished\n",
      "[Parallel(n_jobs=-1)]: Done  10 out of  10 | elapsed:    1.0s finished\n",
      "[Parallel(n_jobs=4)]: Done  10 out of  10 | elapsed:    0.0s finished\n",
      "[Parallel(n_jobs=4)]: Done  10 out of  10 | elapsed:    0.0s finished\n"
     ]
    },
    {
     "name": "stdout",
     "output_type": "stream",
     "text": [
      " ExtraTreesClassifier(bootstrap=False, class_weight=None, criterion='entropy',\n",
      "           max_depth=None, max_features='auto', max_leaf_nodes=None,\n",
      "           min_samples_leaf=1, min_samples_split=2,\n",
      "           min_weight_fraction_leaf=0.0, n_estimators=10, n_jobs=-1,\n",
      "           oob_score=False, random_state=None, verbose=1, warm_start=False)\n",
      "Fold 0\n",
      "Fold"
     ]
    },
    {
     "name": "stderr",
     "output_type": "stream",
     "text": [
      "[Parallel(n_jobs=-1)]: Done  10 out of  10 | elapsed:    1.1s finished\n",
      "[Parallel(n_jobs=4)]: Done  10 out of  10 | elapsed:    0.0s finished\n"
     ]
    },
    {
     "name": "stdout",
     "output_type": "stream",
     "text": [
      " 1\n",
      "Fold"
     ]
    },
    {
     "name": "stderr",
     "output_type": "stream",
     "text": [
      "[Parallel(n_jobs=4)]: Done  10 out of  10 | elapsed:    0.1s finished\n",
      "[Parallel(n_jobs=-1)]: Done  10 out of  10 | elapsed:    1.0s finished\n",
      "[Parallel(n_jobs=4)]: Done  10 out of  10 | elapsed:    0.0s finished\n",
      "[Parallel(n_jobs=4)]: Done  10 out of  10 | elapsed:    0.0s finished\n"
     ]
    },
    {
     "name": "stdout",
     "output_type": "stream",
     "text": [
      " 2\n",
      "Fold"
     ]
    },
    {
     "name": "stderr",
     "output_type": "stream",
     "text": [
      "[Parallel(n_jobs=-1)]: Done  10 out of  10 | elapsed:    1.4s finished\n",
      "[Parallel(n_jobs=4)]: Done  10 out of  10 | elapsed:    0.0s finished\n"
     ]
    },
    {
     "name": "stdout",
     "output_type": "stream",
     "text": [
      " 3\n",
      "Fold"
     ]
    },
    {
     "name": "stderr",
     "output_type": "stream",
     "text": [
      "[Parallel(n_jobs=4)]: Done  10 out of  10 | elapsed:    0.0s finished\n",
      "[Parallel(n_jobs=-1)]: Done  10 out of  10 | elapsed:    1.0s finished\n",
      "[Parallel(n_jobs=4)]: Done  10 out of  10 | elapsed:    0.0s finished\n",
      "[Parallel(n_jobs=4)]: Done  10 out of  10 | elapsed:    0.0s finished\n"
     ]
    },
    {
     "name": "stdout",
     "output_type": "stream",
     "text": [
      " 4\n",
      "2 GradientBoostingClassifier(init=None, learning_rate=0.05, loss='deviance',\n",
      "              max_depth=6, max_features=None, max_leaf_nodes=None,\n",
      "              min_samples_leaf=1, min_samples_split=2,\n",
      "              min_weight_fraction_leaf=0.0, n_estimators=10,\n",
      "              presort='auto', random_state=None, subsample=0.5, verbose=1,\n",
      "              warm_start=False)\n",
      "Fold 0\n",
      "      Iter       Train Loss      OOB Improve   Remaining Time \n",
      "         1           0.3241           0.0081           15.45s\n",
      "         2           0.3049           0.0064           13.64s\n",
      "         3           0.3150           0.0049           12.02s\n",
      "         4           0.3140           0.0041           10.27s\n",
      "         5           0.2979           0.0035            8.50s\n",
      "         6           0.2916           0.0030            6.79s\n",
      "         7           0.2939           0.0027            5.08s\n",
      "         8           0.2973           0.0022            3.40s\n",
      "         9           0.2844           0.0021            1.70s\n",
      "        10           0.2865           0.0018            0.00s\n",
      "Fold 1\n",
      "      Iter       Train Loss      OOB Improve   Remaining Time \n",
      "         1           0.3175           0.0083           15.05s\n",
      "         2           0.3176           0.0062           13.32s\n",
      "         3           0.3069           0.0055           11.66s\n",
      "         4           0.3011           0.0042           10.05s\n",
      "         5           0.2922           0.0036            8.37s\n",
      "         6           0.2970           0.0032            6.70s\n",
      "         7           0.2892           0.0028            5.00s\n",
      "         8           0.2890           0.0024            3.33s\n",
      "         9           0.2847           0.0022            1.67s\n",
      "        10           0.2844           0.0019            0.00s\n",
      "Fold 2\n",
      "      Iter       Train Loss      OOB Improve   Remaining Time \n",
      "         1           0.3172           0.0083           14.93s\n",
      "         2           0.3203           0.0059           13.22s\n",
      "         3           0.3094           0.0050           11.59s\n",
      "         4           0.3016           0.0042           10.03s\n",
      "         5           0.2955           0.0035            8.37s\n",
      "         6           0.2969           0.0031            6.76s\n",
      "         7           0.2988           0.0025            5.17s\n",
      "         8           0.2851           0.0024            3.46s\n",
      "         9           0.2917           0.0023            1.72s\n",
      "        10           0.2803           0.0019            0.00s\n",
      "Fold 3\n",
      "      Iter       Train Loss      OOB Improve   Remaining Time \n",
      "         1           0.3205           0.0075           14.74s\n",
      "         2           0.3109           0.0059           13.30s\n",
      "         3           0.3188           0.0047           11.62s\n",
      "         4           0.3040           0.0041           10.08s\n",
      "         5           0.2990           0.0035            8.41s\n",
      "         6           0.2937           0.0029            6.74s\n",
      "         7           0.2823           0.0025            4.99s\n",
      "         8           0.2832           0.0023            3.35s\n",
      "         9           0.2872           0.0020            1.68s\n",
      "        10           0.2864           0.0019            0.00s\n",
      "Fold 4\n",
      "      Iter       Train Loss      OOB Improve   Remaining Time \n",
      "         1           0.3233           0.0083           15.18s\n",
      "         2           0.3160           0.0062           15.43s\n",
      "         3           0.3131           0.0049           14.54s\n",
      "         4           0.3003           0.0041           12.86s\n",
      "         5           0.2974           0.0034           10.77s\n",
      "         6           0.2939           0.0031            8.37s\n",
      "         7           0.2939           0.0027            6.12s\n",
      "         8           0.2883           0.0023            4.01s\n",
      "         9           0.2865           0.0022            1.98s\n",
      "        10           0.2824           0.0018            0.00s\n"
     ]
    }
   ],
   "source": [
    "for j, clf in enumerate(clfs):\n",
    "        print j, clf\n",
    "        dataset_blend_test_j = np.zeros((test.shape[0], len(skf)))\n",
    "        for i, (trainIndex, testIndex) in enumerate(skf):\n",
    "            print \"Fold\", i\n",
    "            X_train = train.iloc[trainIndex,]\n",
    "            y_train = target[trainIndex]\n",
    "            X_test = train.iloc[testIndex,]\n",
    "            y_test = target[testIndex]\n",
    "            clf.fit(X_train, y_train)\n",
    "            y_submission = clf.predict_proba(X_test)[:,1]\n",
    "            dataset_blend_train[testIndex, j] = y_submission\n",
    "            dataset_blend_test_j[:, i] = clf.predict_proba(test)[:,1]\n",
    "        dataset_blend_test[:,j] = dataset_blend_test_j.mean(1)"
   ]
  },
  {
   "cell_type": "code",
   "execution_count": 22,
   "metadata": {
    "collapsed": false
   },
   "outputs": [
    {
     "name": "stdout",
     "output_type": "stream",
     "text": [
      "Blending with Logistic Regression\n"
     ]
    }
   ],
   "source": [
    "print \"Blending with Logistic Regression\"\n",
    "clf = LogisticRegression()\n",
    "clf.fit(dataset_blend_train, target)\n",
    "y_submission = clf.predict_proba(dataset_blend_test)[:,1]"
   ]
  },
  {
   "cell_type": "code",
   "execution_count": 24,
   "metadata": {
    "collapsed": false
   },
   "outputs": [
    {
     "data": {
      "text/plain": [
       "count    75818.000000\n",
       "mean         0.038952\n",
       "std          0.044357\n",
       "min          0.022629\n",
       "25%          0.023377\n",
       "50%          0.025729\n",
       "75%          0.031212\n",
       "max          0.999788\n",
       "dtype: float64"
      ]
     },
     "execution_count": 24,
     "metadata": {},
     "output_type": "execute_result"
    }
   ],
   "source": [
    "pd.Series(y_submission).describe()"
   ]
  },
  {
   "cell_type": "code",
   "execution_count": 25,
   "metadata": {
    "collapsed": false
   },
   "outputs": [
    {
     "name": "stdout",
     "output_type": "stream",
     "text": [
      "[ 0.8223573   0.81069738  0.82676894  0.84509262  0.82419362]\n",
      "Accuracy: 0.825822 (+/- 0.022193)\n"
     ]
    }
   ],
   "source": [
    "# cross validating the blending logic\n",
    "from sklearn import metrics\n",
    "from sklearn import cross_validation\n",
    "clf = LogisticRegression()\n",
    "scores=cross_validation.cross_val_score(clf,dataset_blend_train,target,cv=5,scoring='roc_auc')\n",
    "print scores\n",
    "print(\"Accuracy: %f (+/- %f)\" % (scores.mean(), scores.std() * 2))"
   ]
  },
  {
   "cell_type": "code",
   "execution_count": 1,
   "metadata": {
    "collapsed": false
   },
   "outputs": [
    {
     "data": {
      "text/plain": [
       "[3, 4]"
      ]
     },
     "execution_count": 1,
     "metadata": {},
     "output_type": "execute_result"
    }
   ],
   "source": [
    "l=[1,2,3,4]\n",
    "l[2:]"
   ]
  },
  {
   "cell_type": "code",
   "execution_count": 2,
   "metadata": {
    "collapsed": false
   },
   "outputs": [
    {
     "ename": "TypeError",
     "evalue": "list indices must be integers, not list",
     "output_type": "error",
     "traceback": [
      "\u001b[1;31m---------------------------------------------------------------------------\u001b[0m",
      "\u001b[1;31mTypeError\u001b[0m                                 Traceback (most recent call last)",
      "\u001b[1;32m<ipython-input-2-7dfca25eb7be>\u001b[0m in \u001b[0;36m<module>\u001b[1;34m()\u001b[0m\n\u001b[0;32m      1\u001b[0m \u001b[0mk\u001b[0m\u001b[1;33m=\u001b[0m\u001b[1;33m[\u001b[0m\u001b[1;36m0\u001b[0m\u001b[1;33m,\u001b[0m\u001b[1;36m1\u001b[0m\u001b[1;33m]\u001b[0m\u001b[1;33m\u001b[0m\u001b[0m\n\u001b[1;32m----> 2\u001b[1;33m \u001b[0ml\u001b[0m\u001b[1;33m[\u001b[0m\u001b[0mk\u001b[0m\u001b[1;33m]\u001b[0m\u001b[1;33m\u001b[0m\u001b[0m\n\u001b[0m",
      "\u001b[1;31mTypeError\u001b[0m: list indices must be integers, not list"
     ]
    }
   ],
   "source": [
    "k=[0,1]\n",
    "l[k]"
   ]
  },
  {
   "cell_type": "code",
   "execution_count": null,
   "metadata": {
    "collapsed": true
   },
   "outputs": [],
   "source": []
  }
 ],
 "metadata": {
  "kernelspec": {
   "display_name": "Python 2",
   "language": "python",
   "name": "python2"
  },
  "language_info": {
   "codemirror_mode": {
    "name": "ipython",
    "version": 2
   },
   "file_extension": ".py",
   "mimetype": "text/x-python",
   "name": "python",
   "nbconvert_exporter": "python",
   "pygments_lexer": "ipython2",
   "version": "2.7.11"
  }
 },
 "nbformat": 4,
 "nbformat_minor": 0
}
