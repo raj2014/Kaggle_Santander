{
 "cells": [
  {
   "cell_type": "code",
   "execution_count": 1,
   "metadata": {
    "collapsed": true
   },
   "outputs": [],
   "source": [
    "from sklearn.cross_validation import StratifiedKFold\n",
    "from sklearn.ensemble import RandomForestClassifier, ExtraTreesClassifier, GradientBoostingClassifier,ExtraTreesRegressor\n",
    "from sklearn.linear_model import LogisticRegression\n",
    "import pandas as pd\n",
    "import numpy as np"
   ]
  },
  {
   "cell_type": "code",
   "execution_count": 2,
   "metadata": {
    "collapsed": true
   },
   "outputs": [],
   "source": [
    "# Reading input train and test data\n",
    "# Reading input train and test data\n",
    "train = pd.read_csv(\"train.csv\")\n",
    "test=pd.read_csv(\"test.csv\")\n",
    "\n",
    "\n",
    "# removing the constant columns\n",
    "remove = []\n",
    "for col in train.columns:\n",
    "    if train[col].std() == 0:\n",
    "        remove.append(col)\n",
    "        \n",
    "train.drop(remove, axis=1, inplace=True)\n",
    "test.drop(remove, axis=1, inplace=True)\n",
    "\n",
    "# remove duplicated columns\n",
    "remove = []\n",
    "c = train.columns\n",
    "for i in range(len(c)-1):\n",
    "    v = train[c[i]].values\n",
    "    for j in range(i+1,len(c)):\n",
    "        if np.array_equal(v,train[c[j]].values):\n",
    "            remove.append(c[j])\n",
    "\n",
    "train.drop(remove, axis=1, inplace=True)\n",
    "test.drop(remove, axis=1, inplace=True)\n",
    "\n",
    "\n",
    "target = train['TARGET'].values\n",
    "train = train.drop(['ID','TARGET'], axis=1)\n",
    "\n",
    "id_test = test['ID'].values\n",
    "test = test.drop(['ID'], axis=1)\n",
    "\n",
    "# length of dataset\n",
    "len_train = len(X_train)\n",
    "len_test  = len(X_test)\n",
    "\n",
    "\n"
   ]
  },
  {
   "cell_type": "code",
   "execution_count": 45,
   "metadata": {
    "collapsed": true
   },
   "outputs": [],
   "source": [
    "# Training a extra trees classifier\n",
    "from sklearn import metrics\n",
    "from sklearn import cross_validation\n",
    "et = ExtraTreesClassifier(n_estimators=1500,max_features= 100,criterion= 'entropy',min_samples_split= 8,\n",
    "                            max_depth= 40, min_samples_leaf= 5,\n",
    "                          verbose=1,n_jobs = 2)      \n"
   ]
  },
  {
   "cell_type": "code",
   "execution_count": null,
   "metadata": {
    "collapsed": false
   },
   "outputs": [],
   "source": [
    "scores=cross_validation.cross_val_score(et,train,target,cv=5,scoring='roc_auc')\n",
    "print scores\n",
    "print(\"Accuracy: %f (+/- %f)\" % (scores.mean(), scores.std() * 2))"
   ]
  },
  {
   "cell_type": "code",
   "execution_count": null,
   "metadata": {
    "collapsed": false
   },
   "outputs": [],
   "source": [
    "et = ExtraTreesClassifier(n_estimators=1000,min_samples_split= 8, min_samples_leaf= 5,\n",
    "                          verbose=1,n_jobs = 2)    \n",
    "param_grid = {\"max_depth\": [40,30],\n",
    "              \"max_features\":[40,50],\n",
    "              \"criterion\": [\"gini\"]\n",
    "              }\n",
    "\n",
    "# run grid search\n",
    "grid_search = GridSearchCV(et, param_grid=param_grid,cv=5,scoring='roc_auc')\n",
    "\n",
    "#start = time()\n",
    "grid_search.fit(train, target)\n",
    "\n",
    "print grid_search.grid_scores_"
   ]
  },
  {
   "cell_type": "code",
   "execution_count": null,
   "metadata": {
    "collapsed": false
   },
   "outputs": [],
   "source": [
    "# Code for Extra Trees Regressor\n",
    "from sklearn.ensemble import ExtraTreesRegressor\n",
    "etr = ExtraTreesRegressor(n_estimators=1000,max_features= 80,criterion= 'mse',min_samples_split= 8,\n",
    "                            max_depth= 50, min_samples_leaf= 5,\n",
    "                          verbose=1,n_jobs = 2) \n",
    "predicted = cross_validation.cross_val_predict(etr,train,\n",
    "                                               target, cv=5)\n",
    "\n",
    "predicted = pd.Series(predicted)\n",
    "predicted.describe()\n",
    "\n",
    "metrics.roc_auc_score(target, predicted)"
   ]
  },
  {
   "cell_type": "code",
   "execution_count": 55,
   "metadata": {
    "collapsed": true
   },
   "outputs": [],
   "source": [
    "from sklearn.cross_validation import StratifiedKFold\n",
    "skf = list(StratifiedKFold(target, 2))"
   ]
  },
  {
   "cell_type": "code",
   "execution_count": 59,
   "metadata": {
    "collapsed": false
   },
   "outputs": [
    {
     "name": "stdout",
     "output_type": "stream",
     "text": [
      "<type 'tuple'>\n"
     ]
    }
   ],
   "source": [
    "print type(skf[0])"
   ]
  },
  {
   "cell_type": "code",
   "execution_count": null,
   "metadata": {
    "collapsed": true
   },
   "outputs": [],
   "source": []
  }
 ],
 "metadata": {
  "kernelspec": {
   "display_name": "Python 2",
   "language": "python",
   "name": "python2"
  },
  "language_info": {
   "codemirror_mode": {
    "name": "ipython",
    "version": 2
   },
   "file_extension": ".py",
   "mimetype": "text/x-python",
   "name": "python",
   "nbconvert_exporter": "python",
   "pygments_lexer": "ipython2",
   "version": "2.7.11"
  }
 },
 "nbformat": 4,
 "nbformat_minor": 0
}
